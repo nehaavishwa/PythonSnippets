{
 "cells": [
  {
   "cell_type": "markdown",
   "metadata": {},
   "source": [
    "##### Binary Search"
   ]
  },
  {
   "cell_type": "code",
   "execution_count": 27,
   "metadata": {
    "collapsed": false
   },
   "outputs": [
    {
     "name": "stdout",
     "output_type": "stream",
     "text": [
      "3 4\n",
      "5 6\n",
      "Position is:: 5 Value is:: 6\n"
     ]
    }
   ],
   "source": [
    "arr = [1, 2, 3, 4, 5, 6, 7, 8]\n",
    "val = 6\n",
    "low = 0\n",
    "high = len(arr)-1\n",
    "while low <= high:\n",
    "    mid = int(low + (high - low)/2)\n",
    "    print(mid, arr[mid])\n",
    "    if arr[mid] == val:\n",
    "        print(\"Position is::\",mid, \"Value is::\", arr[mid])\n",
    "        break;\n",
    "    else:\n",
    "        if arr[mid] < val:\n",
    "            low = mid + 1\n",
    "        else:\n",
    "            high = mid - 1\n",
    "\n",
    "    "
   ]
  },
  {
   "cell_type": "code",
   "execution_count": 29,
   "metadata": {
    "collapsed": false
   },
   "outputs": [
    {
     "data": {
      "text/plain": [
       "False"
      ]
     },
     "execution_count": 29,
     "metadata": {},
     "output_type": "execute_result"
    }
   ],
   "source": [
    "def binary_search(arr, val):\n",
    "    low = 0\n",
    "    high = len(arr)-1\n",
    "    while low <= high:\n",
    "        mid = int(low + (high - low)/2)\n",
    "        #print(mid, arr[mid])\n",
    "        if arr[mid] == val:\n",
    "            print(\"Position is::\",mid, \"Value is::\", arr[mid])\n",
    "            return True\n",
    "            \n",
    "        else:\n",
    "            if arr[mid] < val:\n",
    "                low = mid + 1\n",
    "            else:\n",
    "                high = mid - 1\n",
    "    return False\n",
    "\n",
    "binary_search([1, 2, 3, 4, 5, 6, 7, 8], 9)"
   ]
  },
  {
   "cell_type": "markdown",
   "metadata": {},
   "source": [
    "##### Rotate Array"
   ]
  },
  {
   "cell_type": "code",
   "execution_count": 70,
   "metadata": {
    "collapsed": false
   },
   "outputs": [
    {
     "data": {
      "text/plain": [
       "[4, 5, 6, 7, 8, 1, 2, 3]"
      ]
     },
     "execution_count": 70,
     "metadata": {},
     "output_type": "execute_result"
    }
   ],
   "source": [
    "arr = [1, 2, 3, 4, 5, 6, 7, 8]\n",
    "rotation_position = 3\n",
    "arr_1 = arr[:rotation_position ]\n",
    "arr_2 = arr[rotation_position :]\n",
    "arr_1.reverse()\n",
    "arr_2.reverse()\n",
    "arr_3 = []\n",
    "arr_3 = arr_1 + arr_2\n",
    "arr_3.reverse()\n",
    "arr_3"
   ]
  },
  {
   "cell_type": "code",
   "execution_count": 5,
   "metadata": {
    "collapsed": false
   },
   "outputs": [
    {
     "name": "stdout",
     "output_type": "stream",
     "text": [
      "5\n"
     ]
    },
    {
     "data": {
      "text/plain": [
       "[4, 5, 1, 2, 3]"
      ]
     },
     "execution_count": 5,
     "metadata": {},
     "output_type": "execute_result"
    }
   ],
   "source": [
    "def rotate_array(arr, by_pos):\n",
    "    arr_1 = arr[ :by_pos]\n",
    "    arr_2 = arr[by_pos :]\n",
    "    arr_1 = reverse_array(arr_1)\n",
    "    arr_2 = reverse_array(arr_2)\n",
    "    arr_3 = []\n",
    "    arr_3 = arr_1 + arr_2\n",
    "    arr_3 = reverse_array(arr_3)\n",
    "    return arr_3\n",
    "\n",
    "def reverse_array(arr):\n",
    "    start = 0 \n",
    "    end = len(arr) -1 \n",
    "    while start <= end:\n",
    "        temp = arr[start]\n",
    "        arr[start] = arr[end]\n",
    "        arr[end] = temp\n",
    "        start = start +1\n",
    "        end = end - 1\n",
    "    return arr\n",
    "\n",
    "arr = [1, 2, 3, 4, 5]\n",
    "rotated_arr = rotate_array(arr, 3)\n",
    "rotated_arr"
   ]
  },
  {
   "cell_type": "markdown",
   "metadata": {},
   "source": [
    "##### Contiguous Array"
   ]
  },
  {
   "cell_type": "code",
   "execution_count": 11,
   "metadata": {
    "collapsed": false
   },
   "outputs": [
    {
     "name": "stdout",
     "output_type": "stream",
     "text": [
      "14\n"
     ]
    }
   ],
   "source": [
    "arr_l = [-1, 2, -3, 4, -5, 6, 7, 1, -1]\n",
    "max_so_far = 0\n",
    "max_ending = 0\n",
    "for i in range(0, len(arr_l)-1):\n",
    "    max_ending = max_ending + arr_l[i]\n",
    "    if max_ending < 0:\n",
    "        max_ending = 0\n",
    "    if max_so_far <= max_ending:\n",
    "        max_so_far = max_ending \n",
    "print(max_so_far)"
   ]
  },
  {
   "cell_type": "code",
   "execution_count": 18,
   "metadata": {
    "collapsed": false
   },
   "outputs": [
    {
     "data": {
      "text/plain": [
       "(14, [6, 7, 1])"
      ]
     },
     "execution_count": 18,
     "metadata": {},
     "output_type": "execute_result"
    }
   ],
   "source": [
    "def find_continuous_maxima(arr):\n",
    "    max_ending = 0\n",
    "    max_so_far = 0\n",
    "    arr_island = []\n",
    "    for i in range(0, len(arr)-1):\n",
    "        max_ending = max_ending + arr[i]\n",
    "        arr_island.append(arr[i])\n",
    "        if max_ending < 0:\n",
    "            max_ending = 0\n",
    "            arr_island=[]\n",
    "        if max_so_far < max_ending:\n",
    "            max_so_far = max_ending\n",
    "    return max_so_far, arr_island\n",
    "\n",
    "arr_l = [-1, 2, 11, -11, -4, -5, 6, 7, 1, -1]\n",
    "max_element, i = find_continuous_maxima(arr_l)\n",
    "max_element, i"
   ]
  },
  {
   "cell_type": "code",
   "execution_count": null,
   "metadata": {
    "collapsed": true
   },
   "outputs": [],
   "source": []
  }
 ],
 "metadata": {
  "kernelspec": {
   "display_name": "Python 3",
   "language": "python",
   "name": "python3"
  },
  "language_info": {
   "codemirror_mode": {
    "name": "ipython",
    "version": 3
   },
   "file_extension": ".py",
   "mimetype": "text/x-python",
   "name": "python",
   "nbconvert_exporter": "python",
   "pygments_lexer": "ipython3",
   "version": "3.6.0"
  }
 },
 "nbformat": 4,
 "nbformat_minor": 2
}
